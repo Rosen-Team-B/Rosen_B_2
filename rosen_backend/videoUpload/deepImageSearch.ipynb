{
 "cells": [
  {
   "cell_type": "code",
   "execution_count": 2,
   "metadata": {},
   "outputs": [],
   "source": [
    "# Importing the proper classes\n",
    "from DeepImageSearch import Index,LoadData,SearchImage"
   ]
  },
  {
   "cell_type": "code",
   "execution_count": 5,
   "metadata": {},
   "outputs": [],
   "source": [
    "# load the Images from the Folder (You can also import data from multiple folders in python list type)\n",
    "image_list = LoadData().from_folder(['../media/video_frames/'])\n",
    "# Load data from CSV file\n",
    "# image_list = LoadData().from_csv(csv_file_path='your_csv_file.csv',images_column_name='column_name')"
   ]
  }
 ],
 "metadata": {
  "kernelspec": {
   "display_name": "deepenv",
   "language": "python",
   "name": "python3"
  },
  "language_info": {
   "codemirror_mode": {
    "name": "ipython",
    "version": 3
   },
   "file_extension": ".py",
   "mimetype": "text/x-python",
   "name": "python",
   "nbconvert_exporter": "python",
   "pygments_lexer": "ipython3",
   "version": "3.10.5"
  },
  "orig_nbformat": 4,
  "vscode": {
   "interpreter": {
    "hash": "a3cdea1c7cd2653617e9f728903da0a708a90c3d0214db84a22d500d14b979b0"
   }
  }
 },
 "nbformat": 4,
 "nbformat_minor": 2
}
