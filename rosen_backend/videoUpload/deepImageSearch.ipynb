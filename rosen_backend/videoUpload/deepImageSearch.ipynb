{
 "cells": [
  {
   "cell_type": "code",
   "execution_count": 1,
   "metadata": {},
   "outputs": [
    {
     "ename": "ModuleNotFoundError",
     "evalue": "No module named 'DeepImageSearch'",
     "output_type": "error",
     "traceback": [
      "\u001b[1;31m---------------------------------------------------------------------------\u001b[0m",
      "\u001b[1;31mModuleNotFoundError\u001b[0m                       Traceback (most recent call last)",
      "Cell \u001b[1;32mIn[1], line 2\u001b[0m\n\u001b[0;32m      1\u001b[0m \u001b[39m# Importing the proper classes\u001b[39;00m\n\u001b[1;32m----> 2\u001b[0m \u001b[39mfrom\u001b[39;00m \u001b[39mDeepImageSearch\u001b[39;00m \u001b[39mimport\u001b[39;00m Index,LoadData,SearchImage\n",
      "\u001b[1;31mModuleNotFoundError\u001b[0m: No module named 'DeepImageSearch'"
     ]
    }
   ],
   "source": [
    "# Importing the proper classes\n",
    "from DeepImageSearch import Index,LoadData,SearchImage"
   ]
  },
  {
   "cell_type": "code",
   "execution_count": null,
   "metadata": {},
   "outputs": [],
   "source": [
    "# load the Images from the Folder (You can also import data from multiple folders in python list type)\n",
    "image_list = LoadData().from_folder(['images','wiki-images'])\n",
    "# Load data from CSV file\n",
    "# image_list = LoadData().from_csv(csv_file_path='your_csv_file.csv',images_column_name='column_name')"
   ]
  }
 ],
 "metadata": {
  "kernelspec": {
   "display_name": "Python 3",
   "language": "python",
   "name": "python3"
  },
  "language_info": {
   "codemirror_mode": {
    "name": "ipython",
    "version": 3
   },
   "file_extension": ".py",
   "mimetype": "text/x-python",
   "name": "python",
   "nbconvert_exporter": "python",
   "pygments_lexer": "ipython3",
   "version": "3.10.9"
  },
  "orig_nbformat": 4,
  "vscode": {
   "interpreter": {
    "hash": "faad369c5bee12b3673a4edff1b8f721b8ccc2e05e6d7d26d9b7262a811cd3fd"
   }
  }
 },
 "nbformat": 4,
 "nbformat_minor": 2
}
