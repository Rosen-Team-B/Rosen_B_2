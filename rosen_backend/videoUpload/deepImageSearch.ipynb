{
 "cells": [
  {
   "cell_type": "code",
   "execution_count": 1,
   "metadata": {},
   "outputs": [],
   "source": [
    "# Importing the proper classes\n",
    "from DeepImageSearch import Index,LoadData,SearchImage"
   ]
  },
  {
   "cell_type": "code",
   "execution_count": 2,
   "metadata": {},
   "outputs": [
    {
     "ename": "FileNotFoundError",
     "evalue": "[WinError 3] The system cannot find the path specified: 'images'",
     "output_type": "error",
     "traceback": [
      "\u001b[1;31m---------------------------------------------------------------------------\u001b[0m",
      "\u001b[1;31mFileNotFoundError\u001b[0m                         Traceback (most recent call last)",
      "Cell \u001b[1;32mIn[2], line 2\u001b[0m\n\u001b[0;32m      1\u001b[0m \u001b[39m# load the Images from the Folder (You can also import data from multiple folders in python list type)\u001b[39;00m\n\u001b[1;32m----> 2\u001b[0m image_list \u001b[39m=\u001b[39m LoadData()\u001b[39m.\u001b[39;49mfrom_folder([\u001b[39m'\u001b[39;49m\u001b[39mimages\u001b[39;49m\u001b[39m'\u001b[39;49m,\u001b[39m'\u001b[39;49m\u001b[39mwiki-images\u001b[39;49m\u001b[39m'\u001b[39;49m])\n\u001b[0;32m      3\u001b[0m \u001b[39m# Load data from CSV file\u001b[39;00m\n\u001b[0;32m      4\u001b[0m \u001b[39m# image_list = LoadData().from_csv(csv_file_path='your_csv_file.csv',images_column_name='column_name')\u001b[39;00m\n",
      "File \u001b[1;32mc:\\Users\\Brenden T\\OneDrive\\Documents\\School\\Winter 2022-2023\\Term 1\\COSC 499\\ROSEN Team B\\Rosen_B_2\\rosen_backend\\deepenv\\lib\\site-packages\\DeepImageSearch\\DeepImageSearch.py:24\u001b[0m, in \u001b[0;36mLoadData.from_folder\u001b[1;34m(self, folder_list)\u001b[0m\n\u001b[0;32m     22\u001b[0m image_path \u001b[39m=\u001b[39m []\n\u001b[0;32m     23\u001b[0m \u001b[39mfor\u001b[39;00m folder \u001b[39min\u001b[39;00m \u001b[39mself\u001b[39m\u001b[39m.\u001b[39mfolder_list:\n\u001b[1;32m---> 24\u001b[0m     \u001b[39mfor\u001b[39;00m path \u001b[39min\u001b[39;00m os\u001b[39m.\u001b[39;49mlistdir(folder):\n\u001b[0;32m     25\u001b[0m         image_path\u001b[39m.\u001b[39mappend(os\u001b[39m.\u001b[39mpath\u001b[39m.\u001b[39mjoin(folder,path))\n\u001b[0;32m     26\u001b[0m \u001b[39mreturn\u001b[39;00m image_path\n",
      "\u001b[1;31mFileNotFoundError\u001b[0m: [WinError 3] The system cannot find the path specified: 'images'"
     ]
    }
   ],
   "source": [
    "# load the Images from the Folder (You can also import data from multiple folders in python list type)\n",
    "image_list = LoadData().from_folder(['images','wiki-images'])\n",
    "# Load data from CSV file\n",
    "# image_list = LoadData().from_csv(csv_file_path='your_csv_file.csv',images_column_name='column_name')"
   ]
  }
 ],
 "metadata": {
  "kernelspec": {
   "display_name": "deepenv",
   "language": "python",
   "name": "python3"
  },
  "language_info": {
   "codemirror_mode": {
    "name": "ipython",
    "version": 3
   },
   "file_extension": ".py",
   "mimetype": "text/x-python",
   "name": "python",
   "nbconvert_exporter": "python",
   "pygments_lexer": "ipython3",
   "version": "3.10.5"
  },
  "orig_nbformat": 4,
  "vscode": {
   "interpreter": {
    "hash": "a3cdea1c7cd2653617e9f728903da0a708a90c3d0214db84a22d500d14b979b0"
   }
  }
 },
 "nbformat": 4,
 "nbformat_minor": 2
}
